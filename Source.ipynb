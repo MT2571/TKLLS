{
 "cells": [
  {
   "cell_type": "code",
   "execution_count": 2,
   "id": "6235e0fa",
   "metadata": {},
   "outputs": [
    {
     "name": "stdout",
     "output_type": "stream",
     "text": [
      "  TTHT TTKT0 TTKT1  Ngõ ra 0  Ngõ ra 1\n",
      "0   S0    S0    S5         1         0\n",
      "1   S1    S0    S5         1         0\n",
      "2   S2    S1    S5         0         0\n",
      "3   S3    S0    S6         0         0\n",
      "4   S4    S2    S6         0         0\n",
      "5   S5    S2    S6         1         1\n",
      "6   S6    S3    S7         1         1\n",
      "7   S7    S3    S7         1         1\n",
      "8   S8    S4    S8         1         1\n",
      "9   S9    S4    S9         1         1\n",
      "  TTHT TTKT0 TTKT1  Ngõ ra 0  Ngõ ra 1\n",
      "0   S0    S0    S5         1         0\n",
      "2   S2    S0    S5         0         0\n",
      "4   S4    S2    S5         0         0\n",
      "5   S5    S2    S5         1         1\n",
      "8   S8    S4    S8         1         1\n"
     ]
    }
   ],
   "source": [
    "import pandas as pd\n",
    "df = pd.read_excel(r'D:\\4th Semester\\CE118 - Thiet ke luan ly so\\Do an\\TestCase2.xlsx')\n",
    "DF = df\n",
    "print(DF)\n",
    "G0 = DF[(DF[\"Ngõ ra 0\"] == 0) & (DF[\"Ngõ ra 1\"] == 0)][\"TTHT\"].tolist()\n",
    "G1 = DF[(DF[\"Ngõ ra 0\"] == 0) & (DF[\"Ngõ ra 1\"] == 1)][\"TTHT\"].tolist()\n",
    "G2 = DF[(DF[\"Ngõ ra 0\"] == 1) & (DF[\"Ngõ ra 1\"] == 0)][\"TTHT\"].tolist()\n",
    "G3 = DF[(DF[\"Ngõ ra 0\"] == 1) & (DF[\"Ngõ ra 1\"] == 1)][\"TTHT\"].tolist()\n",
    "DF = DF.replace(G0, 'G0')\n",
    "DF = DF.replace(G1, 'G1')\n",
    "DF = DF.replace(G2, 'G2')\n",
    "DF = DF.replace(G3, 'G3')\n",
    "DF1 = DF\n",
    "DF = DF.drop_duplicates()\n",
    "\n",
    "while (len(DF[\"TTHT\"].tolist()) != len(set(DF[\"TTHT\"].tolist()))):\n",
    "    Si = DF.index.tolist()\n",
    "    idx = DF1.index.tolist()\n",
    "    ls = []\n",
    "    for i in Si:\n",
    "        gr = []\n",
    "        for j in idx:\n",
    "            if (len(DF1.iloc[[i, j]].drop_duplicates()) == 1):\n",
    "                gr.append('S' + str(j))\n",
    "        ls.append(gr)\n",
    "    DF = df\n",
    "    for i in ls:\n",
    "        DF = DF.replace(i, i[0])\n",
    "    DF1 = DF\n",
    "    DF = DF.drop_duplicates()\n",
    "DF = DF.replace({'G0':'S0', 'G1':'S1', 'G2':'S2', 'G3':'S3'})\n",
    "print(DF)"
   ]
  },
  {
   "cell_type": "code",
   "execution_count": null,
   "id": "ced62236",
   "metadata": {},
   "outputs": [],
   "source": []
  }
 ],
 "metadata": {
  "kernelspec": {
   "display_name": "Python 3 (ipykernel)",
   "language": "python",
   "name": "python3"
  },
  "language_info": {
   "codemirror_mode": {
    "name": "ipython",
    "version": 3
   },
   "file_extension": ".py",
   "mimetype": "text/x-python",
   "name": "python",
   "nbconvert_exporter": "python",
   "pygments_lexer": "ipython3",
   "version": "3.9.12"
  }
 },
 "nbformat": 4,
 "nbformat_minor": 5
}
